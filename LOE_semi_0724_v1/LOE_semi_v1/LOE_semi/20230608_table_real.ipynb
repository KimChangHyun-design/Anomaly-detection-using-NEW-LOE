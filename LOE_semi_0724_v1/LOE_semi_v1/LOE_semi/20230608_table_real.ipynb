{
 "cells": [
  {
   "cell_type": "code",
   "execution_count": 1,
   "id": "84d853bd-3da9-4718-bd1f-cfc18ddaa56d",
   "metadata": {},
   "outputs": [],
   "source": [
    "import os"
   ]
  },
  {
   "cell_type": "code",
   "execution_count": 2,
   "id": "40d17e9b-18fb-45d0-bbce-d06c05e7085f",
   "metadata": {},
   "outputs": [],
   "source": [
    "#Code source \n",
    "#data_path = \"/media/usr/SSD/jitae/Thesis/Neural transformation/RESULTS/lg/lg_data_ntl_plus_at_least_10alpha\""
   ]
  },
  {
   "cell_type": "code",
   "execution_count": 3,
   "id": "573c06e4-843b-4339-995a-d31b9a7d4180",
   "metadata": {},
   "outputs": [],
   "source": [
    "data_path = \"/media/usr/SSD/jitae/Thesis/Neural transformation/RESULTS/lg/lg_data_ntl_plus_v1\""
   ]
  },
  {
   "cell_type": "code",
   "execution_count": 4,
   "id": "31de8789-4fff-4d05-af8f-4ebd52f40efd",
   "metadata": {},
   "outputs": [],
   "source": [
    "model_list = ['/model1', '/model2', '/model3', '/model5', '/model4', '/model6']"
   ]
  },
  {
   "cell_type": "code",
   "execution_count": 5,
   "id": "2475f6d7-8c31-458c-8315-54b05856b5d0",
   "metadata": {},
   "outputs": [],
   "source": [
    "file_name=os.listdir(data_path + model_list[0])"
   ]
  },
  {
   "cell_type": "code",
   "execution_count": 6,
   "id": "9748d9c5-5f23-4305-ba75-af5faed630ef",
   "metadata": {},
   "outputs": [
    {
     "name": "stdout",
     "output_type": "stream",
     "text": [
      "['c_0.1_a_0_loe_hard', 'c_0.1_a_0_loe_soft', 'c_0.05_a_0_loe_soft', 'c_0.05_a_0_loe_hard', 'c_0.15_a_0_loe_hard', 'c_0.15_a_0_loe_soft', 'c_0.1_a_0.1_loe_hard_semi', 'c_0.1_a_0.5_loe_hard_semi', 'c_0.1_a_0.1_loe_soft_semi', 'c_0.1_a_0.5_loe_soft_semi', 'c_0.15_a_0.1_loe_hard_semi', 'c_0.05_a_0.1_loe_soft_semi', 'c_0.05_a_0.1_loe_hard_semi', 'c_0.15_a_0.5_loe_soft_semi', 'c_0.15_a_0.5_loe_hard_semi', 'c_0.05_a_0.5_loe_hard_semi', 'c_0.15_a_0.1_loe_soft_semi', 'c_0.05_a_0.5_loe_soft_semi']\n"
     ]
    }
   ],
   "source": [
    "print(sorted(file_name, key=len))"
   ]
  },
  {
   "cell_type": "code",
   "execution_count": 7,
   "id": "4100918d-8ac3-4866-a934-aedc76f66b0e",
   "metadata": {},
   "outputs": [],
   "source": [
    "file_name=sorted(file_name, reverse= True)"
   ]
  },
  {
   "cell_type": "code",
   "execution_count": 8,
   "id": "6f660669-0e63-4da6-9ad9-9c597ab857ea",
   "metadata": {},
   "outputs": [
    {
     "data": {
      "text/plain": [
       "['c_0.1_a_0_loe_soft',\n",
       " 'c_0.1_a_0_loe_hard',\n",
       " 'c_0.1_a_0.5_loe_soft_semi',\n",
       " 'c_0.1_a_0.5_loe_hard_semi',\n",
       " 'c_0.1_a_0.1_loe_soft_semi',\n",
       " 'c_0.1_a_0.1_loe_hard_semi',\n",
       " 'c_0.15_a_0_loe_soft',\n",
       " 'c_0.15_a_0_loe_hard',\n",
       " 'c_0.15_a_0.5_loe_soft_semi',\n",
       " 'c_0.15_a_0.5_loe_hard_semi',\n",
       " 'c_0.15_a_0.1_loe_soft_semi',\n",
       " 'c_0.15_a_0.1_loe_hard_semi',\n",
       " 'c_0.05_a_0_loe_soft',\n",
       " 'c_0.05_a_0_loe_hard',\n",
       " 'c_0.05_a_0.5_loe_soft_semi',\n",
       " 'c_0.05_a_0.5_loe_hard_semi',\n",
       " 'c_0.05_a_0.1_loe_soft_semi',\n",
       " 'c_0.05_a_0.1_loe_hard_semi']"
      ]
     },
     "execution_count": 8,
     "metadata": {},
     "output_type": "execute_result"
    }
   ],
   "source": [
    "file_name"
   ]
  },
  {
   "cell_type": "code",
   "execution_count": 9,
   "id": "9d5ea8f0-9528-4c29-a8e8-4c7a6e23c97e",
   "metadata": {},
   "outputs": [
    {
     "data": {
      "text/plain": [
       "18"
      ]
     },
     "execution_count": 9,
     "metadata": {},
     "output_type": "execute_result"
    }
   ],
   "source": [
    "len(file_name)"
   ]
  },
  {
   "cell_type": "code",
   "execution_count": 10,
   "id": "2430b997-3246-4952-99eb-7601e0fbfe9a",
   "metadata": {},
   "outputs": [
    {
     "data": {
      "text/plain": [
       "'/model6'"
      ]
     },
     "execution_count": 10,
     "metadata": {},
     "output_type": "execute_result"
    }
   ],
   "source": [
    "model_list[5]"
   ]
  },
  {
   "cell_type": "code",
   "execution_count": 11,
   "id": "591ed545-1a37-4242-bf10-a8f89da4acf6",
   "metadata": {},
   "outputs": [],
   "source": [
    "import json\n",
    "\n",
    "path_value_dict = {}   \n",
    "for i in range(18):\n",
    "    with open(data_path + model_list[5]+\"/\"+file_name[i]+'/assessment_results.json', 'r') as f:\n",
    "        json_data = json.load(f)\n",
    "\n",
    "    auc=round(json_data['avg_TS_auc_0'],3)\n",
    "    pc=round(json_data['avg_TS_pc_0'],3)\n",
    "    pf=round(json_data['avg_TS_pf_0'],3)\n",
    "    path_value_dict[i]=file_name[i],auc,pc,pf"
   ]
  },
  {
   "cell_type": "code",
   "execution_count": 12,
   "id": "9f14def5-9623-40f5-ac07-7bdd006196a1",
   "metadata": {},
   "outputs": [
    {
     "data": {
      "text/plain": [
       "{0: ('c_0.1_a_0_loe_soft', 0.532, 0.0, 0.001),\n",
       " 1: ('c_0.1_a_0_loe_hard', 0.422, 0.0, 0.001),\n",
       " 2: ('c_0.1_a_0.5_loe_soft_semi', 0.67, 0.5, 0.001),\n",
       " 3: ('c_0.1_a_0.5_loe_hard_semi', 0.639, 0.5, 0.001),\n",
       " 4: ('c_0.1_a_0.1_loe_soft_semi', 0.678, 0.5, 0.001),\n",
       " 5: ('c_0.1_a_0.1_loe_hard_semi', 0.685, 0.5, 0.001),\n",
       " 6: ('c_0.15_a_0_loe_soft', 0.415, 0.0, 0.001),\n",
       " 7: ('c_0.15_a_0_loe_hard', 0.385, 0.0, 0.001),\n",
       " 8: ('c_0.15_a_0.5_loe_soft_semi', 0.75, 0.5, 0.001),\n",
       " 9: ('c_0.15_a_0.5_loe_hard_semi', 0.705, 0.5, 0.001),\n",
       " 10: ('c_0.15_a_0.1_loe_soft_semi', 0.797, 0.5, 0.001),\n",
       " 11: ('c_0.15_a_0.1_loe_hard_semi', 0.704, 0.5, 0.001),\n",
       " 12: ('c_0.05_a_0_loe_soft', 0.541, 0.0, 0.001),\n",
       " 13: ('c_0.05_a_0_loe_hard', 0.436, 0.0, 0.001),\n",
       " 14: ('c_0.05_a_0.5_loe_soft_semi', 0.633, 0.5, 0.001),\n",
       " 15: ('c_0.05_a_0.5_loe_hard_semi', 0.612, 0.5, 0.001),\n",
       " 16: ('c_0.05_a_0.1_loe_soft_semi', 0.558, 0.5, 0.001),\n",
       " 17: ('c_0.05_a_0.1_loe_hard_semi', 0.64, 0.5, 0.001)}"
      ]
     },
     "execution_count": 12,
     "metadata": {},
     "output_type": "execute_result"
    }
   ],
   "source": [
    "path_value_dict"
   ]
  },
  {
   "cell_type": "code",
   "execution_count": 13,
   "id": "a3fb1fa3-93a5-4daf-ae58-8478d28b27b4",
   "metadata": {},
   "outputs": [],
   "source": [
    "import pandas as pd\n",
    "dd = pd.DataFrame(path_value_dict).T\n",
    "\n",
    "for i in range(5):\n",
    "    if i < 4:\n",
    "        dd[f's{i}'] = dd[0].apply(lambda s: s.split('_')[i])\n",
    "    elif i == 4:\n",
    "        dd[f's{i}'] = dd[0].apply(lambda s: '-'.join(s.split('_')[i:]))"
   ]
  },
  {
   "cell_type": "code",
   "execution_count": 14,
   "id": "1d5767ee-27d1-4d92-bbd1-6fd759f67ed7",
   "metadata": {},
   "outputs": [
    {
     "data": {
      "text/html": [
       "<div>\n",
       "<style scoped>\n",
       "    .dataframe tbody tr th:only-of-type {\n",
       "        vertical-align: middle;\n",
       "    }\n",
       "\n",
       "    .dataframe tbody tr th {\n",
       "        vertical-align: top;\n",
       "    }\n",
       "\n",
       "    .dataframe thead th {\n",
       "        text-align: right;\n",
       "    }\n",
       "</style>\n",
       "<table border=\"1\" class=\"dataframe\">\n",
       "  <thead>\n",
       "    <tr style=\"text-align: right;\">\n",
       "      <th></th>\n",
       "      <th>0</th>\n",
       "      <th>1</th>\n",
       "      <th>2</th>\n",
       "      <th>3</th>\n",
       "      <th>s0</th>\n",
       "      <th>s1</th>\n",
       "      <th>s2</th>\n",
       "      <th>s3</th>\n",
       "      <th>s4</th>\n",
       "    </tr>\n",
       "  </thead>\n",
       "  <tbody>\n",
       "    <tr>\n",
       "      <th>8</th>\n",
       "      <td>c_0.15_a_0.5_loe_soft_semi</td>\n",
       "      <td>0.75</td>\n",
       "      <td>0.5</td>\n",
       "      <td>0.001</td>\n",
       "      <td>c</td>\n",
       "      <td>0.15</td>\n",
       "      <td>a</td>\n",
       "      <td>0.5</td>\n",
       "      <td>loe-soft-semi</td>\n",
       "    </tr>\n",
       "    <tr>\n",
       "      <th>10</th>\n",
       "      <td>c_0.15_a_0.1_loe_soft_semi</td>\n",
       "      <td>0.797</td>\n",
       "      <td>0.5</td>\n",
       "      <td>0.001</td>\n",
       "      <td>c</td>\n",
       "      <td>0.15</td>\n",
       "      <td>a</td>\n",
       "      <td>0.1</td>\n",
       "      <td>loe-soft-semi</td>\n",
       "    </tr>\n",
       "    <tr>\n",
       "      <th>2</th>\n",
       "      <td>c_0.1_a_0.5_loe_soft_semi</td>\n",
       "      <td>0.67</td>\n",
       "      <td>0.5</td>\n",
       "      <td>0.001</td>\n",
       "      <td>c</td>\n",
       "      <td>0.1</td>\n",
       "      <td>a</td>\n",
       "      <td>0.5</td>\n",
       "      <td>loe-soft-semi</td>\n",
       "    </tr>\n",
       "    <tr>\n",
       "      <th>4</th>\n",
       "      <td>c_0.1_a_0.1_loe_soft_semi</td>\n",
       "      <td>0.678</td>\n",
       "      <td>0.5</td>\n",
       "      <td>0.001</td>\n",
       "      <td>c</td>\n",
       "      <td>0.1</td>\n",
       "      <td>a</td>\n",
       "      <td>0.1</td>\n",
       "      <td>loe-soft-semi</td>\n",
       "    </tr>\n",
       "    <tr>\n",
       "      <th>14</th>\n",
       "      <td>c_0.05_a_0.5_loe_soft_semi</td>\n",
       "      <td>0.633</td>\n",
       "      <td>0.5</td>\n",
       "      <td>0.001</td>\n",
       "      <td>c</td>\n",
       "      <td>0.05</td>\n",
       "      <td>a</td>\n",
       "      <td>0.5</td>\n",
       "      <td>loe-soft-semi</td>\n",
       "    </tr>\n",
       "    <tr>\n",
       "      <th>16</th>\n",
       "      <td>c_0.05_a_0.1_loe_soft_semi</td>\n",
       "      <td>0.558</td>\n",
       "      <td>0.5</td>\n",
       "      <td>0.001</td>\n",
       "      <td>c</td>\n",
       "      <td>0.05</td>\n",
       "      <td>a</td>\n",
       "      <td>0.1</td>\n",
       "      <td>loe-soft-semi</td>\n",
       "    </tr>\n",
       "    <tr>\n",
       "      <th>6</th>\n",
       "      <td>c_0.15_a_0_loe_soft</td>\n",
       "      <td>0.415</td>\n",
       "      <td>0.0</td>\n",
       "      <td>0.001</td>\n",
       "      <td>c</td>\n",
       "      <td>0.15</td>\n",
       "      <td>a</td>\n",
       "      <td>0</td>\n",
       "      <td>loe-soft</td>\n",
       "    </tr>\n",
       "    <tr>\n",
       "      <th>0</th>\n",
       "      <td>c_0.1_a_0_loe_soft</td>\n",
       "      <td>0.532</td>\n",
       "      <td>0.0</td>\n",
       "      <td>0.001</td>\n",
       "      <td>c</td>\n",
       "      <td>0.1</td>\n",
       "      <td>a</td>\n",
       "      <td>0</td>\n",
       "      <td>loe-soft</td>\n",
       "    </tr>\n",
       "    <tr>\n",
       "      <th>12</th>\n",
       "      <td>c_0.05_a_0_loe_soft</td>\n",
       "      <td>0.541</td>\n",
       "      <td>0.0</td>\n",
       "      <td>0.001</td>\n",
       "      <td>c</td>\n",
       "      <td>0.05</td>\n",
       "      <td>a</td>\n",
       "      <td>0</td>\n",
       "      <td>loe-soft</td>\n",
       "    </tr>\n",
       "    <tr>\n",
       "      <th>9</th>\n",
       "      <td>c_0.15_a_0.5_loe_hard_semi</td>\n",
       "      <td>0.705</td>\n",
       "      <td>0.5</td>\n",
       "      <td>0.001</td>\n",
       "      <td>c</td>\n",
       "      <td>0.15</td>\n",
       "      <td>a</td>\n",
       "      <td>0.5</td>\n",
       "      <td>loe-hard-semi</td>\n",
       "    </tr>\n",
       "    <tr>\n",
       "      <th>11</th>\n",
       "      <td>c_0.15_a_0.1_loe_hard_semi</td>\n",
       "      <td>0.704</td>\n",
       "      <td>0.5</td>\n",
       "      <td>0.001</td>\n",
       "      <td>c</td>\n",
       "      <td>0.15</td>\n",
       "      <td>a</td>\n",
       "      <td>0.1</td>\n",
       "      <td>loe-hard-semi</td>\n",
       "    </tr>\n",
       "    <tr>\n",
       "      <th>3</th>\n",
       "      <td>c_0.1_a_0.5_loe_hard_semi</td>\n",
       "      <td>0.639</td>\n",
       "      <td>0.5</td>\n",
       "      <td>0.001</td>\n",
       "      <td>c</td>\n",
       "      <td>0.1</td>\n",
       "      <td>a</td>\n",
       "      <td>0.5</td>\n",
       "      <td>loe-hard-semi</td>\n",
       "    </tr>\n",
       "    <tr>\n",
       "      <th>5</th>\n",
       "      <td>c_0.1_a_0.1_loe_hard_semi</td>\n",
       "      <td>0.685</td>\n",
       "      <td>0.5</td>\n",
       "      <td>0.001</td>\n",
       "      <td>c</td>\n",
       "      <td>0.1</td>\n",
       "      <td>a</td>\n",
       "      <td>0.1</td>\n",
       "      <td>loe-hard-semi</td>\n",
       "    </tr>\n",
       "    <tr>\n",
       "      <th>15</th>\n",
       "      <td>c_0.05_a_0.5_loe_hard_semi</td>\n",
       "      <td>0.612</td>\n",
       "      <td>0.5</td>\n",
       "      <td>0.001</td>\n",
       "      <td>c</td>\n",
       "      <td>0.05</td>\n",
       "      <td>a</td>\n",
       "      <td>0.5</td>\n",
       "      <td>loe-hard-semi</td>\n",
       "    </tr>\n",
       "    <tr>\n",
       "      <th>17</th>\n",
       "      <td>c_0.05_a_0.1_loe_hard_semi</td>\n",
       "      <td>0.64</td>\n",
       "      <td>0.5</td>\n",
       "      <td>0.001</td>\n",
       "      <td>c</td>\n",
       "      <td>0.05</td>\n",
       "      <td>a</td>\n",
       "      <td>0.1</td>\n",
       "      <td>loe-hard-semi</td>\n",
       "    </tr>\n",
       "    <tr>\n",
       "      <th>7</th>\n",
       "      <td>c_0.15_a_0_loe_hard</td>\n",
       "      <td>0.385</td>\n",
       "      <td>0.0</td>\n",
       "      <td>0.001</td>\n",
       "      <td>c</td>\n",
       "      <td>0.15</td>\n",
       "      <td>a</td>\n",
       "      <td>0</td>\n",
       "      <td>loe-hard</td>\n",
       "    </tr>\n",
       "    <tr>\n",
       "      <th>1</th>\n",
       "      <td>c_0.1_a_0_loe_hard</td>\n",
       "      <td>0.422</td>\n",
       "      <td>0.0</td>\n",
       "      <td>0.001</td>\n",
       "      <td>c</td>\n",
       "      <td>0.1</td>\n",
       "      <td>a</td>\n",
       "      <td>0</td>\n",
       "      <td>loe-hard</td>\n",
       "    </tr>\n",
       "    <tr>\n",
       "      <th>13</th>\n",
       "      <td>c_0.05_a_0_loe_hard</td>\n",
       "      <td>0.436</td>\n",
       "      <td>0.0</td>\n",
       "      <td>0.001</td>\n",
       "      <td>c</td>\n",
       "      <td>0.05</td>\n",
       "      <td>a</td>\n",
       "      <td>0</td>\n",
       "      <td>loe-hard</td>\n",
       "    </tr>\n",
       "  </tbody>\n",
       "</table>\n",
       "</div>"
      ],
      "text/plain": [
       "                             0      1    2      3 s0    s1 s2   s3  \\\n",
       "8   c_0.15_a_0.5_loe_soft_semi   0.75  0.5  0.001  c  0.15  a  0.5   \n",
       "10  c_0.15_a_0.1_loe_soft_semi  0.797  0.5  0.001  c  0.15  a  0.1   \n",
       "2    c_0.1_a_0.5_loe_soft_semi   0.67  0.5  0.001  c   0.1  a  0.5   \n",
       "4    c_0.1_a_0.1_loe_soft_semi  0.678  0.5  0.001  c   0.1  a  0.1   \n",
       "14  c_0.05_a_0.5_loe_soft_semi  0.633  0.5  0.001  c  0.05  a  0.5   \n",
       "16  c_0.05_a_0.1_loe_soft_semi  0.558  0.5  0.001  c  0.05  a  0.1   \n",
       "6          c_0.15_a_0_loe_soft  0.415  0.0  0.001  c  0.15  a    0   \n",
       "0           c_0.1_a_0_loe_soft  0.532  0.0  0.001  c   0.1  a    0   \n",
       "12         c_0.05_a_0_loe_soft  0.541  0.0  0.001  c  0.05  a    0   \n",
       "9   c_0.15_a_0.5_loe_hard_semi  0.705  0.5  0.001  c  0.15  a  0.5   \n",
       "11  c_0.15_a_0.1_loe_hard_semi  0.704  0.5  0.001  c  0.15  a  0.1   \n",
       "3    c_0.1_a_0.5_loe_hard_semi  0.639  0.5  0.001  c   0.1  a  0.5   \n",
       "5    c_0.1_a_0.1_loe_hard_semi  0.685  0.5  0.001  c   0.1  a  0.1   \n",
       "15  c_0.05_a_0.5_loe_hard_semi  0.612  0.5  0.001  c  0.05  a  0.5   \n",
       "17  c_0.05_a_0.1_loe_hard_semi   0.64  0.5  0.001  c  0.05  a  0.1   \n",
       "7          c_0.15_a_0_loe_hard  0.385  0.0  0.001  c  0.15  a    0   \n",
       "1           c_0.1_a_0_loe_hard  0.422  0.0  0.001  c   0.1  a    0   \n",
       "13         c_0.05_a_0_loe_hard  0.436  0.0  0.001  c  0.05  a    0   \n",
       "\n",
       "               s4  \n",
       "8   loe-soft-semi  \n",
       "10  loe-soft-semi  \n",
       "2   loe-soft-semi  \n",
       "4   loe-soft-semi  \n",
       "14  loe-soft-semi  \n",
       "16  loe-soft-semi  \n",
       "6        loe-soft  \n",
       "0        loe-soft  \n",
       "12       loe-soft  \n",
       "9   loe-hard-semi  \n",
       "11  loe-hard-semi  \n",
       "3   loe-hard-semi  \n",
       "5   loe-hard-semi  \n",
       "15  loe-hard-semi  \n",
       "17  loe-hard-semi  \n",
       "7        loe-hard  \n",
       "1        loe-hard  \n",
       "13       loe-hard  "
      ]
     },
     "execution_count": 14,
     "metadata": {},
     "output_type": "execute_result"
    }
   ],
   "source": [
    "dd.sort_values(['s4','s1','s3'],ascending= False)"
   ]
  },
  {
   "cell_type": "code",
   "execution_count": null,
   "id": "6e195c4f-71bc-4fb4-9e51-91d3d82059aa",
   "metadata": {},
   "outputs": [],
   "source": []
  },
  {
   "cell_type": "code",
   "execution_count": null,
   "id": "a920edb2-69f1-4b24-a949-d367b40d474a",
   "metadata": {},
   "outputs": [],
   "source": []
  },
  {
   "cell_type": "code",
   "execution_count": null,
   "id": "20126bb7-7e8a-420c-b3b0-248f4eee6b84",
   "metadata": {},
   "outputs": [],
   "source": []
  },
  {
   "cell_type": "code",
   "execution_count": null,
   "id": "c5ff6ab9-460c-43a0-9d4a-35cd4087370c",
   "metadata": {},
   "outputs": [],
   "source": []
  }
 ],
 "metadata": {
  "kernelspec": {
   "display_name": "deepsvdd",
   "language": "python",
   "name": "deepsvdd"
  },
  "language_info": {
   "codemirror_mode": {
    "name": "ipython",
    "version": 3
   },
   "file_extension": ".py",
   "mimetype": "text/x-python",
   "name": "python",
   "nbconvert_exporter": "python",
   "pygments_lexer": "ipython3",
   "version": "3.10.4"
  }
 },
 "nbformat": 4,
 "nbformat_minor": 5
}
